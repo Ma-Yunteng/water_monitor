{
 "cells": [
  {
   "cell_type": "code",
   "execution_count": null,
   "metadata": {},
   "outputs": [],
   "source": [
    "import cv2\n",
    "import numpy as np\n",
    "import string\n",
    "import datetime"
   ]
  },
  {
   "cell_type": "code",
   "execution_count": null,
   "metadata": {},
   "outputs": [],
   "source": [
    "debug = False"
   ]
  },
  {
   "cell_type": "code",
   "execution_count": null,
   "metadata": {},
   "outputs": [],
   "source": [
    "def shutdown(cam):\n",
    "    cv2.destroyAllWindows()\n",
    "    cam.release()"
   ]
  },
  {
   "cell_type": "code",
   "execution_count": null,
   "metadata": {},
   "outputs": [],
   "source": [
    "def extractRect(img, x, y, w, h):\n",
    "    if img is None:\n",
    "        return None\n",
    "    \n",
    "    return img[y:y+h,x:x+w]"
   ]
  },
  {
   "cell_type": "code",
   "execution_count": null,
   "metadata": {},
   "outputs": [],
   "source": [
    "def capture(cam):\n",
    "    raw = cam.read()[1]\n",
    "    \n",
    "    if raw is None:\n",
    "        return None\n",
    "    \n",
    "    x = 320\n",
    "    y = 0\n",
    "    w = 290\n",
    "    h = 480\n",
    "    \n",
    "    half = extractRect(raw, x, y, w, h)\n",
    "        \n",
    "    gray = cv2.cvtColor(half, cv2.COLOR_RGB2GRAY)\n",
    "    \n",
    "    return gray"
   ]
  },
  {
   "cell_type": "code",
   "execution_count": null,
   "metadata": {},
   "outputs": [],
   "source": [
    "def drawRect(img, x, y, w, h):\n",
    "    cv2.rectangle(img,(x,y),(x+w,y+h),(0,0,0),1)"
   ]
  },
  {
   "cell_type": "code",
   "execution_count": null,
   "metadata": {},
   "outputs": [],
   "source": [
    "def threshold(img):\n",
    "    retval, threshold = cv2.threshold(img, 150, 255, cv2.THRESH_OTSU)\n",
    "    \n",
    "    return threshold"
   ]
  },
  {
   "cell_type": "code",
   "execution_count": null,
   "metadata": {},
   "outputs": [],
   "source": [
    "def allEqual(aList):\n",
    "    return all(aList[0] == item for item in aList)"
   ]
  },
  {
   "cell_type": "code",
   "execution_count": null,
   "metadata": {},
   "outputs": [],
   "source": [
    "cam = cv2.VideoCapture(\"file:///Users/jackhig/Desktop/meter_qt.mp4\")\n",
    "# cam = cv2.VideoCapture(0)\n",
    "\n",
    "triggerZoneSize = 20\n",
    "triggerZones = []\n",
    "triggerStates = []\n",
    "fired = -1\n",
    "\n",
    "triggerQty = 0.5\n",
    "total = 0.0\n",
    "\n",
    "def addTrigger(x, y):\n",
    "    triggerZones.append((x, y, triggerZoneSize))\n",
    "    triggerStates.append(-1)\n",
    "    \n",
    "addTrigger(260, 190)\n",
    "addTrigger(270, 230)\n",
    "addTrigger(260, 270)\n",
    "\n",
    "alphabet = string.ascii_lowercase\n",
    "\n",
    "while True:\n",
    "    liveImg = capture(cam)\n",
    "\n",
    "    if liveImg is None:\n",
    "        shutdown(cam)\n",
    "        break\n",
    "    \n",
    "    thresholded = threshold(liveImg)\n",
    "    \n",
    "    thresholded_annotated = None\n",
    "    if debug:\n",
    "        cv2.imshow('thresh', thresholded)\n",
    "        thresholded_annotated = threshold(liveImg)\n",
    "    \n",
    "    zoneCount = 0\n",
    "    \n",
    "    for zone in triggerZones:\n",
    "        rect = extractRect(thresholded, zone[0], zone[1], zone[2], zone[2])\n",
    "        drawRect(liveImg, zone[0], zone[1], zone[2], zone[2])\n",
    "        \n",
    "        if debug:\n",
    "            drawRect(thresholded_annotated, zone[0], zone[1], zone[2], zone[2])\n",
    "            \n",
    "        blackOrWhite = 0\n",
    "        if cv2.mean(rect)[0] > 128.0:\n",
    "            blackOrWhite = 1\n",
    "        else:\n",
    "            blackOrWhite = 0\n",
    "            \n",
    "        triggerStates[zoneCount] = blackOrWhite\n",
    "        \n",
    "        if debug:\n",
    "            cv2.imshow(alphabet[zoneCount], rect)\n",
    "        zoneCount = zoneCount+1\n",
    "    \n",
    "    if allEqual(triggerStates):\n",
    "        if triggerStates[-1] is not fired and triggerStates[0] is not fired:\n",
    "            if fired is -1:\n",
    "                print('starting')\n",
    "            else:\n",
    "                now = datetime.datetime.now()\n",
    "                total = total + triggerQty\n",
    "                print(now, \":\", total)\n",
    "            fired = triggerStates[-1]\n",
    "            \n",
    "    \n",
    "    if debug:\n",
    "        cv2.imshow( 'live', liveImg )\n",
    "        cv2.imshow( 'thresh', thresholded_annotated )\n",
    "\n",
    "\n",
    "    key = cv2.waitKey(10)\n",
    "    if key == 27:\n",
    "        shutdown(cam)\n",
    "        break\n",
    "\n",
    "print (\"Done.\")"
   ]
  },
  {
   "cell_type": "code",
   "execution_count": null,
   "metadata": {},
   "outputs": [],
   "source": []
  },
  {
   "cell_type": "code",
   "execution_count": null,
   "metadata": {},
   "outputs": [],
   "source": []
  }
 ],
 "metadata": {
  "kernelspec": {
   "display_name": "Python 3",
   "language": "python",
   "name": "python3"
  },
  "language_info": {
   "codemirror_mode": {
    "name": "ipython",
    "version": 3
   },
   "file_extension": ".py",
   "mimetype": "text/x-python",
   "name": "python",
   "nbconvert_exporter": "python",
   "pygments_lexer": "ipython3",
   "version": "3.6.4"
  }
 },
 "nbformat": 4,
 "nbformat_minor": 1
}
