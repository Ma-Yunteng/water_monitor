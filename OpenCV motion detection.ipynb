{
 "cells": [
  {
   "cell_type": "code",
   "execution_count": null,
   "metadata": {},
   "outputs": [],
   "source": [
    "import cv2\n",
    "import numpy as np\n",
    "import string\n",
    "import datetime\n",
    "import collections\n",
    "import json\n",
    "import sys\n",
    "import math"
   ]
  },
  {
   "cell_type": "code",
   "execution_count": null,
   "metadata": {},
   "outputs": [],
   "source": [
    "def shutdown(cam):\n",
    "    cv2.destroyAllWindows()\n",
    "    cam.release()"
   ]
  },
  {
   "cell_type": "code",
   "execution_count": null,
   "metadata": {},
   "outputs": [],
   "source": [
    "def extractRect(img, x, y, w, h):\n",
    "    if img is None:\n",
    "        return None\n",
    "    \n",
    "    return img[y:y+h,x:x+w]"
   ]
  },
  {
   "cell_type": "code",
   "execution_count": null,
   "metadata": {},
   "outputs": [],
   "source": [
    "def removeBackground(img):\n",
    "    img[np.where((img>=[220,220,220]).all(axis=2))] = [0,0,0]"
   ]
  },
  {
   "cell_type": "code",
   "execution_count": null,
   "metadata": {},
   "outputs": [],
   "source": [
    "def drawCircle(img, centre, radius, colour, thickness):\n",
    "    cv2.circle(img, (centre[0],centre[1]), radius, (colour,colour,colour), thickness)"
   ]
  },
  {
   "cell_type": "code",
   "execution_count": null,
   "metadata": {},
   "outputs": [],
   "source": [
    "def maskCentre(img, centre, radius):\n",
    "    drawCircle(img, centre, radius, 0, -1)"
   ]
  },
  {
   "cell_type": "code",
   "execution_count": null,
   "metadata": {},
   "outputs": [],
   "source": [
    "def maskOutside(img, centre, radius):\n",
    "    thickness = 1000\n",
    "    drawCircle(img, centre, int(radius + (thickness / 2)), 0, thickness)"
   ]
  },
  {
   "cell_type": "code",
   "execution_count": null,
   "metadata": {},
   "outputs": [],
   "source": [
    "def capture(cam):\n",
    "    raw = cam.read()[1]\n",
    "    \n",
    "    if raw is None:\n",
    "        return None\n",
    "    \n",
    "    removeBackground(raw)\n",
    "    maskCentre(raw, centrePoint, centreRadius)\n",
    "    maskOutside(raw, centrePoint, outsideRadius)\n",
    "    \n",
    "    gray = cv2.cvtColor(raw, cv2.COLOR_RGB2GRAY)\n",
    "            \n",
    "    return gray"
   ]
  },
  {
   "cell_type": "code",
   "execution_count": null,
   "metadata": {},
   "outputs": [],
   "source": [
    "def drawRect(img, x, y, w, h, colour):\n",
    "    cv2.rectangle(img,(x,y),(x+w,y+h),(colour,colour,colour), 1)"
   ]
  },
  {
   "cell_type": "code",
   "execution_count": null,
   "metadata": {},
   "outputs": [],
   "source": [
    "def threshold(img):\n",
    "    retval, threshold = cv2.threshold(img, 150, 255, cv2.THRESH_OTSU)\n",
    "    \n",
    "    return threshold"
   ]
  },
  {
   "cell_type": "code",
   "execution_count": null,
   "metadata": {},
   "outputs": [],
   "source": [
    "def allEqual(aList):\n",
    "    return all(aList[0] == item for item in aList)"
   ]
  },
  {
   "cell_type": "code",
   "execution_count": null,
   "metadata": {},
   "outputs": [],
   "source": [
    "class Zone:\n",
    "    \n",
    "    def __init__(self, x, y, size):\n",
    "        self.__x = x\n",
    "        self.__y = y\n",
    "        self.__w = size\n",
    "        self.__h = size\n",
    "        self.__hot = None\n",
    "    \n",
    "    def x(self):\n",
    "        return self.__x\n",
    "    \n",
    "    def y(self):\n",
    "        return self.__y\n",
    "    \n",
    "    def w(self):\n",
    "        return self.__w\n",
    "    \n",
    "    def h(self):\n",
    "        return self.__h\n",
    "    \n",
    "    def isHot(self):\n",
    "        return self.__hot\n",
    "    \n",
    "    def update(self, data):\n",
    "        zoneRect = extractRect(data, self.x(), self.y(), self.w(), self.h())\n",
    "        self.__hot = isLighterThan50percentGrey(zoneRect)"
   ]
  },
  {
   "cell_type": "code",
   "execution_count": null,
   "metadata": {},
   "outputs": [],
   "source": [
    "def isLighterThan50percentGrey(blackAndWhiteImg):\n",
    "    return cv2.mean(blackAndWhiteImg)[0] < 128.0"
   ]
  },
  {
   "cell_type": "code",
   "execution_count": null,
   "metadata": {},
   "outputs": [],
   "source": [
    "class Viewer:\n",
    "    \n",
    "    def show(self, frame):\n",
    "        key = cv2.waitKey(10)\n",
    "        cv2.imshow('frame', frame)\n",
    "        \n",
    "    def render(self, rawFrame, filteredFrame, meter):\n",
    "        key = cv2.waitKey(10)\n",
    "        \n",
    "        rawCopy = rawFrame.copy()\n",
    "        filterCopy = filteredFrame.copy()\n",
    "        \n",
    "        for zone in meter.getZones():\n",
    "            \n",
    "            zoneImg = extractRect(filterCopy, zone.x(), zone.y(), zone.w(), zone.h())\n",
    "            \n",
    "            drawRect(rawCopy, zone.x(), zone.y(), zone.w(), zone.h(), 0)\n",
    "            if zone.isHot():\n",
    "                drawRect(filterCopy, zone.x(), zone.y(), zone.w(), zone.h(), 255)\n",
    "            else:\n",
    "                drawRect(filterCopy, zone.x(), zone.y(), zone.w(), zone.h(), 0)\n",
    "                \n",
    "        cv2.imshow('raw', rawCopy)\n",
    "        cv2.imshow('filtered', filterCopy)\n",
    "\n",
    "class NullViewer:\n",
    "    def show(self, frame):\n",
    "        return\n",
    "    \n",
    "    def render(self, rawFrame, filteredFrame, meter):\n",
    "        return"
   ]
  },
  {
   "cell_type": "code",
   "execution_count": null,
   "metadata": {},
   "outputs": [],
   "source": [
    "class Monitor:\n",
    "    \n",
    "    def __init__(self, camera, meter, viewer = NullViewer()):\n",
    "        self.__camera = camera\n",
    "        self.__meter = meter\n",
    "        self.__online = True\n",
    "        self.__viewer = viewer\n",
    "    \n",
    "    def poll(self):\n",
    "        newFrame = capture(self.__camera)\n",
    "        self.__online = newFrame is not None\n",
    "        \n",
    "        if self.__online:\n",
    "            filteredFrame = self.filterFrame(newFrame)\n",
    "            flowQty = self.__meter.update(filteredFrame)\n",
    "            \n",
    "            self.__viewer.render(newFrame, filteredFrame, self.__meter)\n",
    "            \n",
    "            return flowQty\n",
    "        else:\n",
    "            if not calibrate:\n",
    "                raise Exception(\"camera offline!\")\n",
    "    \n",
    "    def isOnline(self):\n",
    "        return self.__online\n",
    "    \n",
    "    def filterFrame(self, rawFrame):\n",
    "        return threshold(rawFrame)\n",
    "    "
   ]
  },
  {
   "cell_type": "code",
   "execution_count": null,
   "metadata": {},
   "outputs": [],
   "source": [
    "class Trigger:\n",
    "    \n",
    "    def __init__(self, zone1, zone2):\n",
    "        self.__zone1 = zone1\n",
    "        self.__zone2 = zone2\n",
    "        self.__lastState = [None, None]\n",
    "        self.__state = [None, None]\n",
    "        \n",
    "        self.__validStates = collections.deque(maxlen=4)\n",
    "        self.__validStates.append([True,True])\n",
    "        self.__validStates.append([False,True])\n",
    "        self.__validStates.append([False,False])\n",
    "        self.__validStates.append([True,False])\n",
    "    \n",
    "    def setNumber(self, num):\n",
    "        self.__num = num\n",
    "        \n",
    "    def zones(self):\n",
    "        return [self.__zone1, self.__zone2]\n",
    "        \n",
    "    def update(self, data):\n",
    "        self.__zone1.update(data)\n",
    "        self.__zone2.update(data)\n",
    "        \n",
    "        self.__lastState = list(self.__state)\n",
    "        self.__state = [self.__zone1.isHot(), self.__zone2.isHot()]\n",
    "        \n",
    "        if not self.__knownState():\n",
    "            while self.__validStates[0] != self.__state:\n",
    "                self.__validStates.rotate(-1)\n",
    "    \n",
    "    def fired(self):\n",
    "        if self.__hasChanged() and self.__knownState():     \n",
    "            \n",
    "            self.__validStates.rotate(-1)\n",
    "            if self.__validStates[0] == self.__state:\n",
    "                if allEqual(self.__state):\n",
    "                    if debug:\n",
    "                        print(self.__num, \" : \", self.__lastState, \" -> \", self.__state)\n",
    "                    return True\n",
    "            else:\n",
    "                if not calibrate:\n",
    "                    raise Exception('error on trigger', self.__num)\n",
    "        return False\n",
    "            \n",
    "    \n",
    "    def __hasChanged(self):\n",
    "        return set(self.__lastState) != set(self.__state)\n",
    "    \n",
    "    def __knownState(self):\n",
    "        return None not in self.__lastState\n",
    "    \n",
    "  "
   ]
  },
  {
   "cell_type": "code",
   "execution_count": null,
   "metadata": {},
   "outputs": [],
   "source": [
    "class Meter:\n",
    "    \n",
    "    def __init__(self, name, triggers, sensitivity):\n",
    "        self.__triggers = triggers\n",
    "        self.__zones = []\n",
    "        self.__name = name\n",
    "        self.__lastFired = None\n",
    "        self.__sensitivity = sensitivity\n",
    "        self.__fireDeque = collections.deque(maxlen=len(triggers))\n",
    "        \n",
    "        trigCount = 0\n",
    "        for item in triggers:\n",
    "            self.__fireDeque.append(item)\n",
    "            self.__zones.extend(item.zones())\n",
    "            item.setNumber(trigCount)\n",
    "            trigCount = trigCount + 1\n",
    "        \n",
    "    def update(self, data):\n",
    "        fired = []\n",
    "        for trigger in self.__triggers:\n",
    "            trigger.update(data)\n",
    "            if trigger.fired():\n",
    "                fired.append(trigger)\n",
    "            \n",
    "        if len(fired) > 1 and not calibrate:\n",
    "            raise Exception(\"Two triggers fired together?\")\n",
    "        \n",
    "        if len(fired) == 1:\n",
    "            if self.__lastFired is None:\n",
    "                while self.__fireDeque[0] is not fired[0]:\n",
    "                    self.__fireDeque.rotate(-1)\n",
    "                self.__fireDeque.rotate(1)\n",
    "            \n",
    "            self.__lastFired = fired[0]\n",
    "            self.__fireDeque.rotate(-1)\n",
    "            \n",
    "            if self.__fireDeque[0] is not self.__lastFired and not calibrate:\n",
    "                raise Exception(\"Unexpected trigger fired!\")\n",
    "            else:\n",
    "                return self.__sensitivity\n",
    "        \n",
    "        return 0\n",
    "            \n",
    "        \n",
    "    def getZones(self):\n",
    "        return self.__zones"
   ]
  },
  {
   "cell_type": "code",
   "execution_count": null,
   "metadata": {},
   "outputs": [],
   "source": [
    "def arrayToZone(array):\n",
    "    x = array[0]\n",
    "    y = array[1]\n",
    "    size = array[2]\n",
    "    \n",
    "    left = int(x-(size/2))\n",
    "    top = int(y-(size/2))\n",
    "    \n",
    "    return Zone(left, top, array[2])"
   ]
  },
  {
   "cell_type": "code",
   "execution_count": null,
   "metadata": {},
   "outputs": [],
   "source": [
    "def warmUp(cam, viewer, frames):\n",
    "    count = 0\n",
    "    while(count < frames):\n",
    "        img = capture(cam)\n",
    "        viewer.show(img)\n",
    "        count = count+1\n"
   ]
  },
  {
   "cell_type": "code",
   "execution_count": null,
   "metadata": {},
   "outputs": [],
   "source": [
    "def rotate_around_point_lowperf(point, radians, origin=(0, 0)):\n",
    "    \"\"\"\n",
    "    From https://ls3.io/post/rotate_a_2d_coordinate_around_a_point_in_python/\n",
    "    \"\"\"\n",
    "    x, y = point\n",
    "    ox, oy = origin\n",
    "\n",
    "    qx = ox + math.cos(radians) * (x - ox) + math.sin(radians) * (y - oy)\n",
    "    qy = oy + -math.sin(radians) * (x - ox) + math.cos(radians) * (y - oy)\n",
    "\n",
    "    return qx, qy"
   ]
  },
  {
   "cell_type": "code",
   "execution_count": null,
   "metadata": {},
   "outputs": [],
   "source": [
    "def degreesToClockwiseRads(degrees):\n",
    "    return math.radians(degrees) * -1"
   ]
  },
  {
   "cell_type": "code",
   "execution_count": null,
   "metadata": {},
   "outputs": [],
   "source": [
    "def getZoneByAngle(degrees, radiusOffset, size):    \n",
    "    zeroAnglePoint = (origin[0] - triggerRadius - radiusOffset, origin[1])\n",
    "    zeroAnglePoint = rotate_around_point_lowperf(zeroAnglePoint, degreesToClockwiseRads(zeroAngle), origin)\n",
    "    rotatedPoint = rotate_around_point_lowperf(zeroAnglePoint, degreesToClockwiseRads(degrees), origin)\n",
    "    rotatedAngleZone = arrayToZone([rotatedPoint[0],rotatedPoint[1],size])\n",
    "    \n",
    "    return rotatedAngleZone"
   ]
  },
  {
   "cell_type": "code",
   "execution_count": null,
   "metadata": {},
   "outputs": [],
   "source": [
    "def getZoneFromConfig(item):\n",
    "    return getZoneByAngle(item[\"angle\"], item[\"offset\"], item[\"size\"])"
   ]
  },
  {
   "cell_type": "code",
   "execution_count": null,
   "metadata": {},
   "outputs": [],
   "source": [
    "config = json.load(open('config.json'))\n",
    "src = config[\"captureSource\"]\n",
    "mode = config[\"mode\"]\n",
    "calibrate = \"CALIBRATE\" in mode\n",
    "centrePoint = config[\"meterFace\"][\"centrePoint\"]\n",
    "centreRadius = config[\"meterFace\"][\"radius\"][\"inner\"]\n",
    "outsideRadius = config[\"meterFace\"][\"radius\"][\"outer\"]\n",
    "triggerRadius = config[\"meterFace\"][\"radius\"][\"trigger\"]\n",
    "zeroAngle = config[\"meterFace\"][\"zeroAngle\"]\n",
    "\n",
    "debug = \"DEBUG\" in mode\n",
    "\n",
    "triggers = []\n",
    " \n",
    "origin = (centrePoint[0], centrePoint[1])\n",
    "\n",
    "for trigger in config[\"triggers\"]:\n",
    "    zone0 = getZoneFromConfig(trigger[0])\n",
    "    zone1 = getZoneFromConfig(trigger[1])\n",
    "    triggers.append(Trigger(zone0,zone1))\n",
    "    \n",
    "\n",
    "meter = Meter(\"hot\", triggers, config[\"sensitivity\"])\n",
    "\n",
    "viewer = NullViewer()\n",
    "if calibrate:\n",
    "    viewer = Viewer()"
   ]
  },
  {
   "cell_type": "code",
   "execution_count": null,
   "metadata": {},
   "outputs": [],
   "source": [
    "try:\n",
    "    cam = cv2.VideoCapture(src)\n",
    "    warmUp(cam, NullViewer(), 30)\n",
    "\n",
    "    monitor = Monitor(cam, meter, viewer)\n",
    "    while(monitor.isOnline()):\n",
    "        flowQty = monitor.poll()\n",
    "\n",
    "        if flowQty is not None and flowQty>0:\n",
    "            if debug:\n",
    "                print(flowQty)\n",
    "#         todo - send readings somewhere\n",
    "except:\n",
    "    print(\"Unexpected error:\", sys.exc_info())\n",
    "    shutdown(cam)"
   ]
  },
  {
   "cell_type": "code",
   "execution_count": null,
   "metadata": {},
   "outputs": [],
   "source": []
  }
 ],
 "metadata": {
  "kernelspec": {
   "display_name": "Python 3",
   "language": "python",
   "name": "python3"
  },
  "language_info": {
   "codemirror_mode": {
    "name": "ipython",
    "version": 3
   },
   "file_extension": ".py",
   "mimetype": "text/x-python",
   "name": "python",
   "nbconvert_exporter": "python",
   "pygments_lexer": "ipython3",
   "version": "3.6.4"
  }
 },
 "nbformat": 4,
 "nbformat_minor": 1
}
